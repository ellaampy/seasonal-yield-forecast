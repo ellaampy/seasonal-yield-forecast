{
 "cells": [
  {
   "cell_type": "code",
   "execution_count": 1,
   "metadata": {},
   "outputs": [],
   "source": [
    "from datetime import datetime\n",
    "import pandas as pd\n",
    "import numpy as np\n",
    "import matplotlib.pyplot as plt\n",
    "import geopandas as gpd\n",
    "from modules import preprocess\n",
    "\n",
    "# Enable autoreload for Jupyter notebooks\n",
    "%load_ext autoreload\n",
    "%autoreload 2\n"
   ]
  },
  {
   "cell_type": "markdown",
   "metadata": {},
   "source": [
    "### 1. Define study crop and country"
   ]
  },
  {
   "cell_type": "code",
   "execution_count": 3,
   "metadata": {},
   "outputs": [
    {
     "name": "stdout",
     "output_type": "stream",
     "text": [
      "wheat BR (129, 329) (5, 11) (16, 41)\n"
     ]
    }
   ],
   "source": [
    "# USER INPUTS\n",
    "country = \"BR\" # one of [\"US\", \"BR\"]\n",
    "crop = \"wheat\" # one of [\"maize\", \"wheat\"]\n",
    "\n",
    "_, crop_season_in_days_of_year, crop_season_in_months, crop_season_in_time_steps = preprocess.set_crop_season(country, crop)\n",
    "\n",
    "print(crop, country, crop_season_in_days_of_year, crop_season_in_months, crop_season_in_time_steps)"
   ]
  },
  {
   "cell_type": "markdown",
   "metadata": {},
   "source": [
    "### 2. Read data\n",
    "\n",
    "From CY-Bench, we have five predictor datasets. \n",
    "\n",
    "| **ID** | **Name**        | **Time** | **Variables**                         | **Steps**                                    | **Notebook**   |\n",
    "|--------|-----------------|----------|---------------------------------------|----------------------------------------------|----------------|\n",
    "| 1      | FPAR            | bins     | fpar                                  | filter adm_ids, filter crop season           | _on hold because of 10-day bins_ |            \n",
    "| 2      | METEO           | daily    | tmin, tmax, prec, rad, tavg, et0, cwb | filter adm_ids, filter crop season,<br>resample to 8-day bins  |_3_ecmwf_preprocessing.ipynb_ |       \n",
    "| 3      | NDVI            | bins     | ndvi                                  | filter adm_ids, filter crop season, pivotieren           | _this notebook_ |           \n",
    "| 4      | SOIL MOISTURE   | daily    | ssm, rsm                              | filter adm_ids, filter crop season, <br>resample to 8-day bins, pivotieren  | _this notebook_ |          \n",
    "| 5      | SOIL            | static   | awc, bulk_density, drainage_class     | filter adm_ids, pivotieren                                | _this notebook_ |         \n"
   ]
  },
  {
   "cell_type": "code",
   "execution_count": 22,
   "metadata": {},
   "outputs": [],
   "source": [
    "# CY-Bench data\n",
    "#fpar = pd.read_csv(\"../data/CY-Bench/{}/{}/fpar_{}_{}.csv\".format(country, crop, crop, country)) ignored for now because of 10-day bin logic\n",
    "ndvi = pd.read_csv(\"../data/CY-Bench/{}/{}/ndvi_{}_{}.csv\".format(country, crop, crop, country))\n",
    "soil_moisture = pd.read_csv(\"../data/CY-Bench/{}/{}/soil_moisture_{}_{}.csv\".format(country, crop, crop, country))\n",
    "soil = pd.read_csv(\"../data/CY-Bench/{}/{}/soil_{}_{}.csv\".format(country, crop, crop, country))\n",
    "yield_data = pd.read_csv(\"../data/CY-Bench/{}/{}/yield_{}_{}.csv\".format(country, crop, crop, country))"
   ]
  },
  {
   "cell_type": "markdown",
   "metadata": {},
   "source": [
    "### 3. Preprocess"
   ]
  },
  {
   "cell_type": "code",
   "execution_count": 23,
   "metadata": {},
   "outputs": [],
   "source": [
    "cy_bench_data = [soil_moisture, ndvi, soil]\n",
    "relevant_adm_ids = yield_data[\"adm_id\"].unique()\n",
    "cy_bench_data = preprocess.filter_predictors_by_adm_ids(cy_bench_data, relevant_adm_ids)\n",
    "soil_moisture, ndvi, soil = cy_bench_data\n",
    "\n",
    "temporal_cy_bench_data = [soil_moisture, ndvi]\n",
    "temporal_cy_bench_data = preprocess.preprocess_temporal_data(temporal_cy_bench_data, crop_season_in_days_of_year[0], crop_season_in_days_of_year[1])\n",
    "\n",
    "soil_moisture, ndvi = temporal_cy_bench_data\n",
    "\n",
    "predictors = soil_moisture.merge(ndvi, on=[\"adm_id\", \"harvest_year\"], how=\"inner\").merge(soil.drop(\"crop_name\", axis=1), on=\"adm_id\", how=\"left\")"
   ]
  },
  {
   "cell_type": "code",
   "execution_count": 29,
   "metadata": {},
   "outputs": [],
   "source": [
    "predictors.to_csv(\"../data/preprocessed/{}/ndvi_soil_soil_moisture_{}_{}.csv\".format(country, crop, country))"
   ]
  }
 ],
 "metadata": {
  "kernelspec": {
   "display_name": "global-yield-forecast",
   "language": "python",
   "name": "python3"
  },
  "language_info": {
   "codemirror_mode": {
    "name": "ipython",
    "version": 3
   },
   "file_extension": ".py",
   "mimetype": "text/x-python",
   "name": "python",
   "nbconvert_exporter": "python",
   "pygments_lexer": "ipython3",
   "version": "3.11.4"
  }
 },
 "nbformat": 4,
 "nbformat_minor": 2
}
