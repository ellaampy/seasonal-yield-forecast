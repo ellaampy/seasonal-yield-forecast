{
 "cells": [
  {
   "cell_type": "code",
   "execution_count": 1,
   "metadata": {},
   "outputs": [],
   "source": [
    "import pandas as pd\n",
    "import numpy as np\n",
    "import xarray as xr\n",
    "import geopandas as gpd \n",
    "\n",
    "%load_ext autoreload\n",
    "%autoreload 2"
   ]
  },
  {
   "cell_type": "markdown",
   "metadata": {},
   "source": [
    "#### Read ECMWF seasonal forecasts"
   ]
  },
  {
   "cell_type": "code",
   "execution_count": 11,
   "metadata": {},
   "outputs": [],
   "source": [
    "month = \"may\"\n",
    "country = \"USA\" # USA or BRAZIL"
   ]
  },
  {
   "cell_type": "code",
   "execution_count": 12,
   "metadata": {},
   "outputs": [
    {
     "name": "stdout",
     "output_type": "stream",
     "text": [
      "reading may_2003_09\n",
      "ensembles mean\n",
      "to dataframe\n",
      "filter coordinates to continental US\n",
      "convert to datetime\n",
      "reading may_2010_16\n",
      "ensembles mean\n",
      "to dataframe\n",
      "filter coordinates to continental US\n",
      "convert to datetime\n",
      "reading may_2017_23\n",
      "ensembles mean\n",
      "to dataframe\n",
      "filter coordinates to continental US\n",
      "convert to datetime\n"
     ]
    }
   ],
   "source": [
    "filtered_coords = pd.read_csv(\"../data/ecmwf_coords_in_us.csv\")\n",
    "# read hindcasts\n",
    "list_hindcasts = []\n",
    "for filename in [\"{}_2003_09\".format(month), \"{}_2010_16\".format(month), \"{}_2017_23\".format(month)]:\n",
    "    print(\"reading {}\".format(filename))\n",
    "    df = xr.open_dataset(\"../data/{}/ecmwf_grib/\".format(country) + filename.lower() + \".grib\")\n",
    "    print(\"ensembles mean\") # Note: This is subject to change for probabilistic forecasting\n",
    "    df = df.mean(\"number\")\n",
    "    print(\"to dataframe\")\n",
    "    df = df.to_dataframe().dropna().reset_index()\n",
    "    print(\"filter coordinates to continental US\")\n",
    "    df = df.merge(filtered_coords[[\"latitude\", \"longitude\"]], on=[\"latitude\", \"longitude\"], how=\"right\")\n",
    "    print(\"convert to datetime\")\n",
    "    df[\"valid_time\"] = pd.to_datetime(df[\"valid_time\"])\n",
    "    df[\"time\"] = pd.to_datetime(df[\"time\"])\n",
    "    list_hindcasts.append(df)\n",
    "\n",
    "ecmwf = pd.concat(list_hindcasts, ignore_index=True)"
   ]
  },
  {
   "cell_type": "markdown",
   "metadata": {},
   "source": [
    "## Export to csv"
   ]
  },
  {
   "cell_type": "code",
   "execution_count": 13,
   "metadata": {},
   "outputs": [],
   "source": [
    "ecmwf.to_csv(\"../data/ecmwf_csv/ecmwf_{}.csv\".format(month), index=False)"
   ]
  }
 ],
 "metadata": {
  "kernelspec": {
   "display_name": "global-yield-forecast",
   "language": "python",
   "name": "python3"
  },
  "language_info": {
   "codemirror_mode": {
    "name": "ipython",
    "version": 3
   },
   "file_extension": ".py",
   "mimetype": "text/x-python",
   "name": "python",
   "nbconvert_exporter": "python",
   "pygments_lexer": "ipython3",
   "version": "3.11.4"
  }
 },
 "nbformat": 4,
 "nbformat_minor": 2
}
