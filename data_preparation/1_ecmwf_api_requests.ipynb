{
 "cells": [
  {
   "cell_type": "code",
   "execution_count": 1,
   "metadata": {},
   "outputs": [],
   "source": [
    "import cdsapi"
   ]
  },
  {
   "cell_type": "code",
   "execution_count": 2,
   "metadata": {},
   "outputs": [],
   "source": [
    "n = list(range(1, 216))\n",
    "days = [str(24*c) for c in n]"
   ]
  },
  {
   "cell_type": "code",
   "execution_count": 10,
   "metadata": {},
   "outputs": [
    {
     "name": "stderr",
     "output_type": "stream",
     "text": [
      "2024-06-13 15:09:30,453 INFO Welcome to the CDS\n",
      "2024-06-13 15:09:30,456 INFO Sending request to https://cds.climate.copernicus.eu/api/v2/resources/seasonal-original-single-levels\n",
      "2024-06-13 15:09:30,659 INFO Request is completed\n",
      "2024-06-13 15:09:30,660 INFO Downloading https://download-0019.copernicus-climate.eu/cache-compute-0019/cache/data7/adaptor.mars.external-1718087415.3047416-27082-10-30ff5318-c60a-4932-a822-22d733ed5eaf.grib to br_oct_2017_23.grib (1018.3M)\n",
      "2024-06-13 15:11:19,983 INFO Download rate 9.3M/s   \n"
     ]
    },
    {
     "data": {
      "text/plain": [
       "Result(content_length=1067815560,content_type=application/x-grib,location=https://download-0019.copernicus-climate.eu/cache-compute-0019/cache/data7/adaptor.mars.external-1718087415.3047416-27082-10-30ff5318-c60a-4932-a822-22d733ed5eaf.grib)"
      ]
     },
     "execution_count": 10,
     "metadata": {},
     "output_type": "execute_result"
    }
   ],
   "source": [
    "c = cdsapi.Client()\n",
    "\n",
    "c.retrieve(\n",
    "    'seasonal-original-single-levels',\n",
    "    {\n",
    "        'format': 'grib',\n",
    "        'originating_centre': 'ecmwf',\n",
    "        'system': '51',\n",
    "        'variable': [\n",
    "            '2m_temperature', 'maximum_2m_temperature_in_the_last_24_hours', 'minimum_2m_temperature_in_the_last_24_hours',\n",
    "            'total_precipitation'\n",
    "        ],\n",
    "        'year': [\n",
    "           #'2003', '2004', '2005', '2006', '2007', '2008', '2009' \n",
    "           #'2010', '2011', '2012', '2013', '2014', '2015', '2016'\n",
    "           '2017', '2018', '2019', '2020', '2021', '2022', '2023'\n",
    "        ],\n",
    "        'month': '10',\n",
    "        'day': '01',\n",
    "        'leadtime_hour': days,\n",
    "        'area': [\n",
    "            6, -74, -34,\n",
    "            -34,\n",
    "        ],\n",
    "    },\n",
    "    'br_oct_2017_23.grib')"
   ]
  }
 ],
 "metadata": {
  "kernelspec": {
   "display_name": "global-yield-forecast",
   "language": "python",
   "name": "python3"
  },
  "language_info": {
   "codemirror_mode": {
    "name": "ipython",
    "version": 3
   },
   "file_extension": ".py",
   "mimetype": "text/x-python",
   "name": "python",
   "nbconvert_exporter": "python",
   "pygments_lexer": "ipython3",
   "version": "3.11.4"
  }
 },
 "nbformat": 4,
 "nbformat_minor": 2
}
