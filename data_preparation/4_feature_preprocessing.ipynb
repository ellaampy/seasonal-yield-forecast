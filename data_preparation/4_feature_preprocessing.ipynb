{
 "cells": [
  {
   "cell_type": "code",
   "execution_count": 2,
   "metadata": {},
   "outputs": [],
   "source": [
    "import pandas as pd\n",
    "from modules import preprocess\n",
    "\n",
    "# Enable autoreload for Jupyter notebooks\n",
    "%load_ext autoreload\n",
    "%autoreload 2\n"
   ]
  },
  {
   "cell_type": "markdown",
   "metadata": {},
   "source": [
    "### 1. Define study crop and country"
   ]
  },
  {
   "cell_type": "code",
   "execution_count": 4,
   "metadata": {},
   "outputs": [
    {
     "name": "stdout",
     "output_type": "stream",
     "text": [
      "../data/shapefiles/US/tl_2023_us_county/tl_2023_us_county.shp wheat US (33, 233) (2, 8)\n"
     ]
    }
   ],
   "source": [
    "# USER INPUTS\n",
    "country = \"US\" # one of [\"US\", \"BR\"]\n",
    "crop = \"wheat\" # one of [\"maize\", \"wheat\"]\n",
    "\n",
    "shapefile_path, crop_season_in_days_of_year, crop_season_in_months, _ = preprocess.get_study_metadata(country, crop)\n",
    "\n",
    "print(shapefile_path, crop, country, crop_season_in_days_of_year, crop_season_in_months)"
   ]
  },
  {
   "cell_type": "markdown",
   "metadata": {},
   "source": [
    "### 2. Read data\n",
    "\n",
    "From CY-Bench, we have five predictor datasets. \n",
    "\n",
    "| **ID** | **Name**        | **Time** | **Variables**                         | **Steps**                                    | **Notebook**   |\n",
    "|--------|-----------------|----------|---------------------------------------|----------------------------------------------|----------------|\n",
    "| 1      | FPAR            | bins     | fpar                                  | filter adm_ids, filter crop season           | _this notebook_ |            \n",
    "| 2      | METEO           | daily    | tmin, tmax, prec, rad, tavg, et0, cwb | filter adm_ids, filter crop season,<br>resample to 8-day bins  | _3_ecmwf_preprocessing.ipynb (tmin, tmax, tavg, prec_) <br>_this notebook_ (et0, rad, cwb) |       \n",
    "| 3      | NDVI            | bins     | ndvi                                  | filter adm_ids, filter crop season, pivotieren           | _this notebook_ |           \n",
    "| 4      | SOIL MOISTURE   | daily    | ssm, rsm                              | filter adm_ids, filter crop season, <br>resample to 8-day bins, pivotieren  | _this notebook_ |          \n",
    "| 5      | SOIL            | static   | awc, bulk_density, drainage_class     | filter adm_ids, pivotieren                                | _this notebook_ |         \n"
   ]
  },
  {
   "cell_type": "code",
   "execution_count": 121,
   "metadata": {},
   "outputs": [],
   "source": [
    "# CY-Bench data\n",
    "fpar = pd.read_csv(\"../data/CY-Bench/{}/{}/fpar_{}_{}.csv\".format(country, crop, crop, country)) \n",
    "meteo = pd.read_csv(\"../data/CY-Bench/{}/{}/meteo_{}_{}.csv\".format(country, crop, crop, country), usecols=['crop_name','adm_id','date','rad','et0','cwb'])\n",
    "ndvi = pd.read_csv(\"../data/CY-Bench/{}/{}/ndvi_{}_{}.csv\".format(country, crop, crop, country))\n",
    "soil_moisture = pd.read_csv(\"../data/CY-Bench/{}/{}/soil_moisture_{}_{}.csv\".format(country, crop, crop, country))\n",
    "soil = pd.read_csv(\"../data/CY-Bench/{}/{}/soil_{}_{}.csv\".format(country, crop, crop, country))\n",
    "yield_data = pd.read_csv(\"../data/CY-Bench/{}/{}/yield_{}_{}.csv\".format(country, crop, crop, country))"
   ]
  },
  {
   "cell_type": "markdown",
   "metadata": {},
   "source": [
    "### 3. Preprocess"
   ]
  },
  {
   "cell_type": "code",
   "execution_count": 122,
   "metadata": {},
   "outputs": [],
   "source": [
    "cy_bench_data = [fpar, soil_moisture, ndvi, soil, meteo]\n",
    "relevant_adm_ids = yield_data[\"adm_id\"].unique()\n",
    "cy_bench_data = preprocess.filter_predictors_by_adm_ids(cy_bench_data, relevant_adm_ids)\n",
    "fpar, soil_moisture, ndvi, soil, meteo = cy_bench_data"
   ]
  },
  {
   "cell_type": "code",
   "execution_count": 125,
   "metadata": {},
   "outputs": [],
   "source": [
    "temporal_cy_bench_data = [fpar, soil_moisture, ndvi, meteo]\n",
    "temporal_cy_bench_data = preprocess.preprocess_temporal_data(temporal_cy_bench_data, crop_season_in_days_of_year)\n",
    "\n",
    "fpar, soil_moisture, ndvi, meteo = temporal_cy_bench_data"
   ]
  },
  {
   "cell_type": "code",
   "execution_count": 126,
   "metadata": {},
   "outputs": [],
   "source": [
    "# merge\n",
    "predictors = (soil_moisture\n",
    "              .merge(ndvi\n",
    "                     .merge(meteo\n",
    "                            .merge(fpar, on=[\"adm_id\", \"harvest_year\"], how=\"inner\"), \n",
    "                            on=[\"adm_id\", \"harvest_year\"], how=\"inner\"), \n",
    "                     on=[\"adm_id\", \"harvest_year\"], how=\"inner\")\n",
    "              .merge(soil.drop(\"crop_name\", axis=1), on=\"adm_id\", how=\"left\"))\n",
    "\n",
    "# one-hot encode drainage_class and drop\n",
    "predictors = (predictors\n",
    "              .join(pd.get_dummies(predictors[\"drainage_class\"].astype('Int64'), dtype=int, prefix=\"drainage_class\"))\n",
    "              .drop(\"drainage_class\", axis=1))"
   ]
  },
  {
   "cell_type": "code",
   "execution_count": 128,
   "metadata": {},
   "outputs": [],
   "source": [
    "predictors.to_csv(\"../data/preprocessed/{}/ndvi_soil_soil_moisture_meteo_fpar_{}_{}.csv\".format(country, crop, country), index=False)"
   ]
  }
 ],
 "metadata": {
  "kernelspec": {
   "display_name": "global-yield-forecast",
   "language": "python",
   "name": "python3"
  },
  "language_info": {
   "codemirror_mode": {
    "name": "ipython",
    "version": 3
   },
   "file_extension": ".py",
   "mimetype": "text/x-python",
   "name": "python",
   "nbconvert_exporter": "python",
   "pygments_lexer": "ipython3",
   "version": "3.11.4"
  }
 },
 "nbformat": 4,
 "nbformat_minor": 2
}
