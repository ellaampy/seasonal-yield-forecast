{
 "cells": [
  {
   "cell_type": "code",
   "execution_count": 7,
   "metadata": {},
   "outputs": [],
   "source": [
    "import cdsapi"
   ]
  },
  {
   "cell_type": "code",
   "execution_count": 8,
   "metadata": {},
   "outputs": [],
   "source": [
    "n = list(range(1, 216))\n",
    "days = [str(24*c) for c in n]"
   ]
  },
  {
   "cell_type": "code",
   "execution_count": 19,
   "metadata": {},
   "outputs": [
    {
     "name": "stderr",
     "output_type": "stream",
     "text": [
      "2024-06-11 16:15:00,716 INFO Welcome to the CDS\n",
      "2024-06-11 16:15:00,717 INFO Sending request to https://cds.climate.copernicus.eu/api/v2/resources/seasonal-original-single-levels\n",
      "2024-06-11 16:15:00,777 INFO Request is queued\n",
      "2024-06-11 16:15:03,349 INFO Request is running\n"
     ]
    }
   ],
   "source": [
    "c = cdsapi.Client()\n",
    "\n",
    "c.retrieve(\n",
    "    'seasonal-original-single-levels',\n",
    "    {\n",
    "        'format': 'grib',\n",
    "        'originating_centre': 'ecmwf',\n",
    "        'system': '51',\n",
    "        'variable': [\n",
    "            '2m_temperature', 'maximum_2m_temperature_in_the_last_24_hours', 'minimum_2m_temperature_in_the_last_24_hours',\n",
    "            'total_precipitation',\n",
    "        ],\n",
    "        'year': [\n",
    "           '2003', '2004', '2005', '2006', '2007', '2008', '2009' \n",
    "           #'2010', '2011', '2012', '2013', '2014', '2015', '2016'\n",
    "           #'2017', '2018', '2019', '2020', '2021', '2022', '2023'\n",
    "        ],\n",
    "        'month': '06',\n",
    "        'day': '01',\n",
    "        'leadtime_hour': days,\n",
    "        'area': [\n",
    "            6, -74, -34,\n",
    "            -34,\n",
    "        ],\n",
    "    },\n",
    "    'br_june_2003_09.grib')"
   ]
  }
 ],
 "metadata": {
  "kernelspec": {
   "display_name": "global-yield-forecast",
   "language": "python",
   "name": "python3"
  },
  "language_info": {
   "codemirror_mode": {
    "name": "ipython",
    "version": 3
   },
   "file_extension": ".py",
   "mimetype": "text/x-python",
   "name": "python",
   "nbconvert_exporter": "python",
   "pygments_lexer": "ipython3",
   "version": "3.11.4"
  }
 },
 "nbformat": 4,
 "nbformat_minor": 2
}
