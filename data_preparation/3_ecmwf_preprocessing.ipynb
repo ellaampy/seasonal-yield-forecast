{
 "cells": [
  {
   "cell_type": "code",
   "execution_count": 1,
   "metadata": {},
   "outputs": [],
   "source": [
    "import pandas as pd\n",
    "import geopandas as gpd \n",
    "from modules import preprocess\n",
    "\n",
    "number_to_month = {1: \"jan\", 2: \"feb\", 3: \"mar\", 4: \"apr\", 5: \"may\", 6: \"june\", 7: \"july\", 8: \"aug\", 9: \"sep\", 10: \"oct\", 11: \"nov\", 12: \"dec\"} \n",
    "\n",
    "%load_ext autoreload\n",
    "%autoreload 2"
   ]
  },
  {
   "cell_type": "markdown",
   "metadata": {},
   "source": [
    "### 1. Data import"
   ]
  },
  {
   "cell_type": "markdown",
   "metadata": {},
   "source": [
    "#### Define the study crop and country"
   ]
  },
  {
   "cell_type": "code",
   "execution_count": 40,
   "metadata": {},
   "outputs": [
    {
     "name": "stdout",
     "output_type": "stream",
     "text": [
      "wheat US (33, 233) (2, 8) [2006, 2015, 2017]\n"
     ]
    }
   ],
   "source": [
    "# USER INPUTS\n",
    "ecmwf_country = \"US\" # one of [\"US\", \"BR\"]\n",
    "crop = \"wheat\" # one of [\"maize\", \"wheat\"]\n",
    "\n",
    "shapefile_path, crop_season_in_days_of_year, crop_season_in_months, test_years = preprocess.get_study_metadata(ecmwf_country, crop)\n",
    "\n",
    "print(crop, ecmwf_country, crop_season_in_days_of_year, crop_season_in_months, test_years)"
   ]
  },
  {
   "cell_type": "markdown",
   "metadata": {},
   "source": [
    "#### Read Data"
   ]
  },
  {
   "cell_type": "code",
   "execution_count": 41,
   "metadata": {},
   "outputs": [
    {
     "data": {
      "text/plain": [
       "<Axes: >"
      ]
     },
     "execution_count": 41,
     "metadata": {},
     "output_type": "execute_result"
    },
    {
     "data": {
      "image/png": "[encoded data removed]",
      "text/plain": [
       "<Figure size 500x500 with 1 Axes>"
      ]
     },
     "metadata": {},
     "output_type": "display_data"
    }
   ],
   "source": [
    "# CY-BENCH\n",
    "yield_data = pd.read_csv(\"../data/CY-Bench/{}/{}/yield_{}_{}.csv\".format(ecmwf_country, crop, crop, ecmwf_country))\n",
    "era = pd.read_csv(\"../data/CY-Bench/{}/{}/meteo_{}_{}.csv\".format(ecmwf_country, crop, crop, ecmwf_country))\n",
    "relevant_adm_ids = yield_data[\"adm_id\"].unique()\n",
    "\n",
    "# Country shapefile\n",
    "country_gpd = gpd.read_file(shapefile_path)\n",
    "country_gpd = country_gpd.set_crs(\"EPSG:4326\", allow_override=True) # allow override because US shapefile is already in 4326\n",
    "country_gpd[\"adm_id\"] = \"\"\n",
    "if ecmwf_country == \"US\":\n",
    "    country_gpd[\"adm_id\"] = \"{}-\".format(ecmwf_country) + country_gpd[\"STATEFP\"].astype(str) + \"-\" + country_gpd[\"COUNTYFP\"].astype(str)\n",
    "if ecmwf_country == \"BR\":\n",
    "    country_gpd[\"adm_id\"] = country_gpd[\"ADM2_PCODE\"]\n",
    "    #country_gpd[\"adm_id\"] = country_gpd.loc[country_gpd[\"ADM1_PT\"].isin(['Paraná', 'Santa Catarina', 'Rio Grande do Sul']), \"ADM2_PCODE\"]\n",
    "mismatches = [adm_id for adm_id in relevant_adm_ids if adm_id not in country_gpd[\"adm_id\"].unique()]\n",
    "country_gpd_crop = country_gpd.loc[country_gpd[\"adm_id\"].isin(relevant_adm_ids)].reset_index(drop=True)\n",
    "country_gpd_shape = country_gpd_crop.dissolve().to_crs(\"EPSG:4326\")\n",
    "base = country_gpd.plot(color=\"white\", edgecolor=\"black\", linewidth=.05, figsize=(5, 5))\n",
    "country_gpd_crop.plot(ax=base)"
   ]
  },
  {
   "cell_type": "markdown",
   "metadata": {},
   "source": [
    "### 2. Preprocess ERA"
   ]
  },
  {
   "cell_type": "code",
   "execution_count": 70,
   "metadata": {},
   "outputs": [
    {
     "data": {
      "text/html": [
       "<div>\n",
       "<style scoped>\n",
       "    .dataframe tbody tr th:only-of-type {\n",
       "        vertical-align: middle;\n",
       "    }\n",
       "\n",
       "    .dataframe tbody tr th {\n",
       "        vertical-align: top;\n",
       "    }\n",
       "\n",
       "    .dataframe thead th {\n",
       "        text-align: right;\n",
       "    }\n",
       "</style>\n",
       "<table border=\"1\" class=\"dataframe\">\n",
       "  <thead>\n",
       "    <tr style=\"text-align: right;\">\n",
       "      <th></th>\n",
       "      <th>adm_id</th>\n",
       "      <th>harvest_year</th>\n",
       "      <th>start_date_bin</th>\n",
       "      <th>tmin</th>\n",
       "      <th>tmax</th>\n",
       "      <th>prec</th>\n",
       "      <th>tavg</th>\n",
       "      <th>time_step</th>\n",
       "    </tr>\n",
       "  </thead>\n",
       "  <tbody>\n",
       "    <tr>\n",
       "      <th>274531</th>\n",
       "      <td>US-18-083</td>\n",
       "      <td>2021</td>\n",
       "      <td>2021-08-05</td>\n",
       "      <td>22.047642</td>\n",
       "      <td>31.757046</td>\n",
       "      <td>2.359172</td>\n",
       "      <td>26.714927</td>\n",
       "      <td>27</td>\n",
       "    </tr>\n",
       "    <tr>\n",
       "      <th>572287</th>\n",
       "      <td>US-29-039</td>\n",
       "      <td>2014</td>\n",
       "      <td>2014-02-10</td>\n",
       "      <td>-7.268705</td>\n",
       "      <td>6.216557</td>\n",
       "      <td>0.616201</td>\n",
       "      <td>-0.088169</td>\n",
       "      <td>5</td>\n",
       "    </tr>\n",
       "    <tr>\n",
       "      <th>889067</th>\n",
       "      <td>US-41-021</td>\n",
       "      <td>2017</td>\n",
       "      <td>2017-08-05</td>\n",
       "      <td>20.935903</td>\n",
       "      <td>35.366317</td>\n",
       "      <td>0.092097</td>\n",
       "      <td>27.739625</td>\n",
       "      <td>27</td>\n",
       "    </tr>\n",
       "    <tr>\n",
       "      <th>446338</th>\n",
       "      <td>US-22-037</td>\n",
       "      <td>2009</td>\n",
       "      <td>2009-07-28</td>\n",
       "      <td>23.607844</td>\n",
       "      <td>31.412715</td>\n",
       "      <td>7.228356</td>\n",
       "      <td>26.841175</td>\n",
       "      <td>26</td>\n",
       "    </tr>\n",
       "    <tr>\n",
       "      <th>1014717</th>\n",
       "      <td>US-47-113</td>\n",
       "      <td>2010</td>\n",
       "      <td>2010-06-02</td>\n",
       "      <td>20.857710</td>\n",
       "      <td>30.853944</td>\n",
       "      <td>1.246476</td>\n",
       "      <td>25.496822</td>\n",
       "      <td>19</td>\n",
       "    </tr>\n",
       "  </tbody>\n",
       "</table>\n",
       "</div>"
      ],
      "text/plain": [
       "            adm_id  harvest_year start_date_bin       tmin       tmax  \\\n",
       "274531   US-18-083          2021     2021-08-05  22.047642  31.757046   \n",
       "572287   US-29-039          2014     2014-02-10  -7.268705   6.216557   \n",
       "889067   US-41-021          2017     2017-08-05  20.935903  35.366317   \n",
       "446338   US-22-037          2009     2009-07-28  23.607844  31.412715   \n",
       "1014717  US-47-113          2010     2010-06-02  20.857710  30.853944   \n",
       "\n",
       "             prec       tavg  time_step  \n",
       "274531   2.359172  26.714927         27  \n",
       "572287   0.616201  -0.088169          5  \n",
       "889067   0.092097  27.739625         27  \n",
       "446338   7.228356  26.841175         26  \n",
       "1014717  1.246476  25.496822         19  "
      ]
     },
     "execution_count": 70,
     "metadata": {},
     "output_type": "execute_result"
    }
   ],
   "source": [
    "era = preprocess.filter_predictors_by_adm_ids([era], relevant_adm_ids)[0]\n",
    "era = preprocess.assign_time_columns(era)\n",
    "era = preprocess.filter_predictors_by_crop_season(era, crop_season_in_days_of_year)\n",
    "era_resampled = preprocess.resample_era(era)\n",
    "era_resampled.sample(5)"
   ]
  },
  {
   "cell_type": "markdown",
   "metadata": {},
   "source": [
    "### 3. Bring ERA and ECMWF together"
   ]
  },
  {
   "cell_type": "markdown",
   "metadata": {},
   "source": [
    "Seasonal climate models (SCM) from ECMWF are initialized at the first of each month from January to December. The forecasts are provided for 7 months ahead. In-season yield forecasts will be validated throughout the season each time a new ECMWF forecasts is available at the beginning of each month. Below is an illustration of how ERA and SCM data will be concatenated depending on the month of initialization. Furthermore, since forecast length is up to 7 month, in-season yield forecast validation will start earliest 7 month before harvest. All past months will be consecutively supplemented wit AgERA5 data from CY-Bench each month as harvest is approached. See example wheat cropping season in Brazil from May to November (green dashed line) and in the US (blue dashed line) in the image below."
   ]
  },
  {
   "cell_type": "code",
   "execution_count": 72,
   "metadata": {},
   "outputs": [
    {
     "data": {
      "image/png": "[encoded data removed]",
      "text/plain": [
       "<IPython.core.display.Image object>"
      ]
     },
     "execution_count": 72,
     "metadata": {},
     "output_type": "execute_result"
    }
   ],
   "source": [
    "from IPython.display import Image\n",
    "Image(filename=\"era_scm_us_br_overview.png\")"
   ]
  },
  {
   "cell_type": "code",
   "execution_count": 73,
   "metadata": {},
   "outputs": [
    {
     "data": {
      "text/html": [
       "<div>\n",
       "<style scoped>\n",
       "    .dataframe tbody tr th:only-of-type {\n",
       "        vertical-align: middle;\n",
       "    }\n",
       "\n",
       "    .dataframe tbody tr th {\n",
       "        vertical-align: top;\n",
       "    }\n",
       "\n",
       "    .dataframe thead th {\n",
       "        text-align: right;\n",
       "    }\n",
       "</style>\n",
       "<table border=\"1\" class=\"dataframe\">\n",
       "  <thead>\n",
       "    <tr style=\"text-align: right;\">\n",
       "      <th></th>\n",
       "      <th>adm_id</th>\n",
       "      <th>init_date</th>\n",
       "      <th>tavg_4</th>\n",
       "      <th>tavg_5</th>\n",
       "      <th>tavg_6</th>\n",
       "      <th>tavg_7</th>\n",
       "      <th>tavg_8</th>\n",
       "      <th>tavg_9</th>\n",
       "      <th>tavg_10</th>\n",
       "      <th>tavg_11</th>\n",
       "      <th>...</th>\n",
       "      <th>prec_21</th>\n",
       "      <th>prec_22</th>\n",
       "      <th>prec_23</th>\n",
       "      <th>prec_24</th>\n",
       "      <th>prec_25</th>\n",
       "      <th>prec_26</th>\n",
       "      <th>prec_27</th>\n",
       "      <th>prec_28</th>\n",
       "      <th>prec_29</th>\n",
       "      <th>harvest_year</th>\n",
       "    </tr>\n",
       "  </thead>\n",
       "  <tbody>\n",
       "    <tr>\n",
       "      <th>74178</th>\n",
       "      <td>US-31-053</td>\n",
       "      <td>2021-03-01</td>\n",
       "      <td>-11.243177</td>\n",
       "      <td>-18.782656</td>\n",
       "      <td>-2.746024</td>\n",
       "      <td>4.342532</td>\n",
       "      <td>11.840085</td>\n",
       "      <td>8.534068</td>\n",
       "      <td>10.838323</td>\n",
       "      <td>12.968543</td>\n",
       "      <td>...</td>\n",
       "      <td>4.003353</td>\n",
       "      <td>3.003353</td>\n",
       "      <td>3.128256</td>\n",
       "      <td>1.958336</td>\n",
       "      <td>1.841342</td>\n",
       "      <td>2.085575</td>\n",
       "      <td>2.553959</td>\n",
       "      <td>2.489146</td>\n",
       "      <td>2.102960</td>\n",
       "      <td>2021</td>\n",
       "    </tr>\n",
       "    <tr>\n",
       "      <th>94910</th>\n",
       "      <td>US-53-025</td>\n",
       "      <td>2013-03-01</td>\n",
       "      <td>1.163146</td>\n",
       "      <td>2.588431</td>\n",
       "      <td>2.004137</td>\n",
       "      <td>4.508834</td>\n",
       "      <td>7.574694</td>\n",
       "      <td>6.749892</td>\n",
       "      <td>8.006057</td>\n",
       "      <td>9.583362</td>\n",
       "      <td>...</td>\n",
       "      <td>0.754541</td>\n",
       "      <td>0.420178</td>\n",
       "      <td>0.210112</td>\n",
       "      <td>0.129309</td>\n",
       "      <td>0.037412</td>\n",
       "      <td>0.159771</td>\n",
       "      <td>0.155522</td>\n",
       "      <td>0.287911</td>\n",
       "      <td>0.021260</td>\n",
       "      <td>2013</td>\n",
       "    </tr>\n",
       "    <tr>\n",
       "      <th>165737</th>\n",
       "      <td>US-26-125</td>\n",
       "      <td>2020-05-01</td>\n",
       "      <td>-1.481941</td>\n",
       "      <td>-3.841330</td>\n",
       "      <td>-0.947211</td>\n",
       "      <td>-1.156461</td>\n",
       "      <td>4.385997</td>\n",
       "      <td>2.849331</td>\n",
       "      <td>3.271967</td>\n",
       "      <td>6.443484</td>\n",
       "      <td>...</td>\n",
       "      <td>3.376830</td>\n",
       "      <td>3.454381</td>\n",
       "      <td>2.769156</td>\n",
       "      <td>3.145249</td>\n",
       "      <td>3.049854</td>\n",
       "      <td>3.286577</td>\n",
       "      <td>3.356533</td>\n",
       "      <td>3.510545</td>\n",
       "      <td>3.207320</td>\n",
       "      <td>2020</td>\n",
       "    </tr>\n",
       "    <tr>\n",
       "      <th>9033</th>\n",
       "      <td>US-17-135</td>\n",
       "      <td>2016-02-01</td>\n",
       "      <td>4.705933</td>\n",
       "      <td>0.720068</td>\n",
       "      <td>2.412808</td>\n",
       "      <td>6.555411</td>\n",
       "      <td>9.280944</td>\n",
       "      <td>9.876604</td>\n",
       "      <td>10.732929</td>\n",
       "      <td>12.582435</td>\n",
       "      <td>...</td>\n",
       "      <td>3.132481</td>\n",
       "      <td>2.079639</td>\n",
       "      <td>2.749767</td>\n",
       "      <td>2.828712</td>\n",
       "      <td>1.837175</td>\n",
       "      <td>2.122720</td>\n",
       "      <td>2.449143</td>\n",
       "      <td>2.189082</td>\n",
       "      <td>3.353780</td>\n",
       "      <td>2016</td>\n",
       "    </tr>\n",
       "    <tr>\n",
       "      <th>149396</th>\n",
       "      <td>US-06-089</td>\n",
       "      <td>2019-05-01</td>\n",
       "      <td>2.276382</td>\n",
       "      <td>2.003768</td>\n",
       "      <td>2.269849</td>\n",
       "      <td>6.145754</td>\n",
       "      <td>5.613427</td>\n",
       "      <td>9.804674</td>\n",
       "      <td>7.193737</td>\n",
       "      <td>10.786336</td>\n",
       "      <td>...</td>\n",
       "      <td>0.766111</td>\n",
       "      <td>0.541744</td>\n",
       "      <td>0.323142</td>\n",
       "      <td>0.146119</td>\n",
       "      <td>0.146290</td>\n",
       "      <td>0.099365</td>\n",
       "      <td>0.049811</td>\n",
       "      <td>0.089607</td>\n",
       "      <td>0.118015</td>\n",
       "      <td>2019</td>\n",
       "    </tr>\n",
       "  </tbody>\n",
       "</table>\n",
       "<p>5 rows × 107 columns</p>\n",
       "</div>"
      ],
      "text/plain": [
       "           adm_id  init_date     tavg_4     tavg_5    tavg_6    tavg_7  \\\n",
       "74178   US-31-053 2021-03-01 -11.243177 -18.782656 -2.746024  4.342532   \n",
       "94910   US-53-025 2013-03-01   1.163146   2.588431  2.004137  4.508834   \n",
       "165737  US-26-125 2020-05-01  -1.481941  -3.841330 -0.947211 -1.156461   \n",
       "9033    US-17-135 2016-02-01   4.705933   0.720068  2.412808  6.555411   \n",
       "149396  US-06-089 2019-05-01   2.276382   2.003768  2.269849  6.145754   \n",
       "\n",
       "           tavg_8    tavg_9    tavg_10    tavg_11  ...   prec_21   prec_22  \\\n",
       "74178   11.840085  8.534068  10.838323  12.968543  ...  4.003353  3.003353   \n",
       "94910    7.574694  6.749892   8.006057   9.583362  ...  0.754541  0.420178   \n",
       "165737   4.385997  2.849331   3.271967   6.443484  ...  3.376830  3.454381   \n",
       "9033     9.280944  9.876604  10.732929  12.582435  ...  3.132481  2.079639   \n",
       "149396   5.613427  9.804674   7.193737  10.786336  ...  0.766111  0.541744   \n",
       "\n",
       "         prec_23   prec_24   prec_25   prec_26   prec_27   prec_28   prec_29  \\\n",
       "74178   3.128256  1.958336  1.841342  2.085575  2.553959  2.489146  2.102960   \n",
       "94910   0.210112  0.129309  0.037412  0.159771  0.155522  0.287911  0.021260   \n",
       "165737  2.769156  3.145249  3.049854  3.286577  3.356533  3.510545  3.207320   \n",
       "9033    2.749767  2.828712  1.837175  2.122720  2.449143  2.189082  3.353780   \n",
       "149396  0.323142  0.146119  0.146290  0.099365  0.049811  0.089607  0.118015   \n",
       "\n",
       "        harvest_year  \n",
       "74178           2021  \n",
       "94910           2013  \n",
       "165737          2020  \n",
       "9033            2016  \n",
       "149396          2019  \n",
       "\n",
       "[5 rows x 107 columns]"
      ]
     },
     "execution_count": 73,
     "metadata": {},
     "output_type": "execute_result"
    }
   ],
   "source": [
    "li = []\n",
    "for month in range(list(crop_season_in_months)[0], list(crop_season_in_months)[1]+1):\n",
    "    ecmwf = pd.read_csv(\"../data/ECMWF/{}/ecmwf_csv/ecmwf_{}.csv\".format(ecmwf_country, number_to_month[month]))\n",
    "    ecmwf = preprocess.format_ecmwf_columns(ecmwf)\n",
    "    ecmwf = preprocess.filter_predictors_by_crop_season(ecmwf, crop_season_in_days_of_year)\n",
    "    ecmwf = preprocess.resample_ecmwf(ecmwf, crop_season_in_days_of_year)\n",
    "    ecmwf, first_time_step = preprocess.assign_ecmwf_forecasts_to_adm_units(ecmwf, country_gpd_crop)\n",
    "    era_pivot = preprocess.pivot_era(era_resampled.loc[era_resampled[\"time_step\"] < first_time_step])\n",
    "    era_ecmwf = era_pivot.merge(ecmwf, on=[\"adm_id\", \"harvest_year\"], how=\"right\")\n",
    "    li.append(era_ecmwf)\n",
    "era_end_of_season = preprocess.create_end_of_season(era_resampled, crop_season_in_months)\n",
    "li.append(era_end_of_season)\n",
    "era_ecmwf = pd.concat(li, ignore_index=True)\n",
    "era_ecmwf.sample(5)"
   ]
  },
  {
   "cell_type": "markdown",
   "metadata": {},
   "source": [
    "# EXPORT"
   ]
  },
  {
   "cell_type": "code",
   "execution_count": 84,
   "metadata": {},
   "outputs": [],
   "source": [
    "era_ecmwf.to_csv(\"../data/preprocessed/{}/ecmwf_era_{}_{}.csv\".format(ecmwf_country, crop, ecmwf_country), index=False)"
   ]
  },
  {
   "cell_type": "markdown",
   "metadata": {},
   "source": [
    "### Overmatter\n",
    "\n",
    "For bias-adjustment:"
   ]
  },
  {
   "cell_type": "code",
   "execution_count": null,
   "metadata": {},
   "outputs": [],
   "source": [
    "# ERA data for forecast period used for CDF estimation\n",
    "era_forecast_period = preprocess.pivot_era(era_resampled.loc[era_resampled[\"time_step\"] >= first_time_step])\n",
    "era_reference = era_forecast_period.loc[era_forecast_period[\"harvest_year\"].isin(test_years) == False].sort_values(by=[\"adm_id\", \"harvest_year\"]).reset_index(drop=True)\n",
    "# ECMWF reference for CDF estimation that will not be adjusted\n",
    "ecmwf_reference = ecmwf.loc[ecmwf[\"harvest_year\"].isin(test_years) == False].sort_values(by=[\"adm_id\", \"harvest_year\"]).reset_index(drop=True).copy()\n",
    "\n",
    "features = [c for c in ecmwf_reference.columns  if (\"prec\"in c) or (\"tavg\" in c) or (\"tmin\" in c) or (\"tmax\" in c)]\n",
    "ecmwf_adjusted = pd.DataFrame(index=ecmwf.set_index([\"adm_id\", \"harvest_year\", \"init_date\"]).index, columns=features).sort_index()\n",
    "counter = 1\n",
    "for adm_id in relevant_adm_ids:\n",
    "    print(round(counter / len(relevant_adm_ids), 4) * 100, \"%\")\n",
    "    counter += 1\n",
    "    if adm_id in ['BR1300805', 'BR3518701']:\n",
    "        continue\n",
    "    for feature in features:\n",
    "        era_cdf = era_reference.loc[era_reference[\"adm_id\"] == adm_id, feature] \n",
    "        ecmwf_cdf = ecmwf_reference.loc[ecmwf_reference[\"adm_id\"] == adm_id, feature] \n",
    "        ecmwf_to_adjust = ecmwf.loc[(ecmwf[\"adm_id\"] == adm_id), feature]    \n",
    "        #print(adm_id, feature, era_cdf.mean(), ecmwf_cdf.mean(), era_cdf.var(), ecmwf_cdf.var())\n",
    "        \n",
    "        if (\"t\" in feature):\n",
    "                try:\n",
    "                    ecmwf_adjusted.loc[(adm_id), feature] = preprocess.normal_correction(era_cdf, ecmwf_cdf, ecmwf_to_adjust)\n",
    "                except:\n",
    "                    print(ecmwf_to_adjust)\n",
    "                    raise    \n",
    "        elif (\"prec\" in feature):\n",
    "                ecmwf_adjusted.loc[(adm_id), feature] =ecmwf_to_adjust * era_reference.mean() / ecmwf_cdf.mean()\n",
    "        "
   ]
  }
 ],
 "metadata": {
  "kernelspec": {
   "display_name": "global-yield-forecast",
   "language": "python",
   "name": "python3"
  },
  "language_info": {
   "codemirror_mode": {
    "name": "ipython",
    "version": 3
   },
   "file_extension": ".py",
   "mimetype": "text/x-python",
   "name": "python",
   "nbconvert_exporter": "python",
   "pygments_lexer": "ipython3",
   "version": "3.11.4"
  }
 },
 "nbformat": 4,
 "nbformat_minor": 2
}
