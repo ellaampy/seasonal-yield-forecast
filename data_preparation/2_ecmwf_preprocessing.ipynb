{
 "cells": [
  {
   "cell_type": "code",
   "execution_count": 1,
   "metadata": {},
   "outputs": [],
   "source": [
    "import pandas as pd\n",
    "import numpy as np\n",
    "import xarray as xr\n",
    "from datetime import datetime\n",
    "import geopandas as gpd \n",
    "\n",
    "%load_ext autoreload\n",
    "%autoreload 2"
   ]
  },
  {
   "cell_type": "markdown",
   "metadata": {},
   "source": [
    "### 1. Data import"
   ]
  },
  {
   "cell_type": "markdown",
   "metadata": {},
   "source": [
    "#### 1.2 Read US shapefiles"
   ]
  },
  {
   "cell_type": "code",
   "execution_count": 2,
   "metadata": {},
   "outputs": [
    {
     "data": {
      "text/plain": [
       "<Axes: >"
      ]
     },
     "execution_count": 2,
     "metadata": {},
     "output_type": "execute_result"
    },
    {
     "data": {
      "image/png": "[encoded data removed]",
      "text/plain": [
       "<Figure size 640x480 with 1 Axes>"
      ]
     },
     "metadata": {},
     "output_type": "display_data"
    }
   ],
   "source": [
    "us_shape = gpd.read_file('../data/tl_2018_us_county/tl_2018_us_county.shp').to_crs(\"EPSG:4326\")\n",
    "\n",
    "# filter continental US\n",
    "us_continental_counties = us_shape.cx[-66:-125, 24:50].reset_index(drop=True)\n",
    "us_continental_boundary = us_continental_counties.dissolve()\n",
    "us_continental_boundary.plot()"
   ]
  },
  {
   "cell_type": "markdown",
   "metadata": {},
   "source": [
    "#### 1.2 Read MODIS start dates"
   ]
  },
  {
   "cell_type": "code",
   "execution_count": 11,
   "metadata": {},
   "outputs": [
    {
     "data": {
      "text/html": [
       "<div>\n",
       "<style scoped>\n",
       "    .dataframe tbody tr th:only-of-type {\n",
       "        vertical-align: middle;\n",
       "    }\n",
       "\n",
       "    .dataframe tbody tr th {\n",
       "        vertical-align: top;\n",
       "    }\n",
       "\n",
       "    .dataframe thead th {\n",
       "        text-align: right;\n",
       "    }\n",
       "</style>\n",
       "<table border=\"1\" class=\"dataframe\">\n",
       "  <thead>\n",
       "    <tr style=\"text-align: right;\">\n",
       "      <th></th>\n",
       "      <th>2003</th>\n",
       "      <th>2004</th>\n",
       "      <th>2005</th>\n",
       "      <th>2006</th>\n",
       "      <th>2007</th>\n",
       "      <th>2008</th>\n",
       "      <th>2009</th>\n",
       "      <th>2010</th>\n",
       "      <th>2011</th>\n",
       "      <th>2012</th>\n",
       "      <th>2013</th>\n",
       "      <th>2014</th>\n",
       "      <th>2015</th>\n",
       "      <th>2016</th>\n",
       "      <th>2017</th>\n",
       "      <th>2018</th>\n",
       "      <th>2019</th>\n",
       "      <th>2020</th>\n",
       "      <th>2021</th>\n",
       "    </tr>\n",
       "  </thead>\n",
       "  <tbody>\n",
       "    <tr>\n",
       "      <th>6</th>\n",
       "      <td>2003-02-18</td>\n",
       "      <td>2004-02-18</td>\n",
       "      <td>2005-02-18</td>\n",
       "      <td>2006-02-18</td>\n",
       "      <td>2007-02-18</td>\n",
       "      <td>2008-02-18</td>\n",
       "      <td>2009-02-18</td>\n",
       "      <td>2010-02-18</td>\n",
       "      <td>2011-02-18</td>\n",
       "      <td>2012-02-18</td>\n",
       "      <td>2013-02-18</td>\n",
       "      <td>2014-02-18</td>\n",
       "      <td>2015-02-18</td>\n",
       "      <td>2016-02-18</td>\n",
       "      <td>2017-02-18</td>\n",
       "      <td>2018-02-18</td>\n",
       "      <td>2019-02-18</td>\n",
       "      <td>2020-02-18</td>\n",
       "      <td>2021-02-18</td>\n",
       "    </tr>\n",
       "    <tr>\n",
       "      <th>7</th>\n",
       "      <td>2003-02-26</td>\n",
       "      <td>2004-02-26</td>\n",
       "      <td>2005-02-26</td>\n",
       "      <td>2006-02-26</td>\n",
       "      <td>2007-02-26</td>\n",
       "      <td>2008-02-26</td>\n",
       "      <td>2009-02-26</td>\n",
       "      <td>2010-02-26</td>\n",
       "      <td>2011-02-26</td>\n",
       "      <td>2012-02-26</td>\n",
       "      <td>2013-02-26</td>\n",
       "      <td>2014-02-26</td>\n",
       "      <td>2015-02-26</td>\n",
       "      <td>2016-02-26</td>\n",
       "      <td>2017-02-26</td>\n",
       "      <td>2018-02-26</td>\n",
       "      <td>2019-02-26</td>\n",
       "      <td>2020-02-26</td>\n",
       "      <td>2021-02-26</td>\n",
       "    </tr>\n",
       "    <tr>\n",
       "      <th>8</th>\n",
       "      <td>2003-03-06</td>\n",
       "      <td>2004-03-05</td>\n",
       "      <td>2005-03-06</td>\n",
       "      <td>2006-03-06</td>\n",
       "      <td>2007-03-06</td>\n",
       "      <td>2008-03-05</td>\n",
       "      <td>2009-03-06</td>\n",
       "      <td>2010-03-06</td>\n",
       "      <td>2011-03-06</td>\n",
       "      <td>2012-03-05</td>\n",
       "      <td>2013-03-06</td>\n",
       "      <td>2014-03-06</td>\n",
       "      <td>2015-03-06</td>\n",
       "      <td>2016-03-05</td>\n",
       "      <td>2017-03-06</td>\n",
       "      <td>2018-03-06</td>\n",
       "      <td>2019-03-06</td>\n",
       "      <td>2020-03-05</td>\n",
       "      <td>2021-03-06</td>\n",
       "    </tr>\n",
       "  </tbody>\n",
       "</table>\n",
       "</div>"
      ],
      "text/plain": [
       "        2003       2004       2005       2006       2007       2008  \\\n",
       "6 2003-02-18 2004-02-18 2005-02-18 2006-02-18 2007-02-18 2008-02-18   \n",
       "7 2003-02-26 2004-02-26 2005-02-26 2006-02-26 2007-02-26 2008-02-26   \n",
       "8 2003-03-06 2004-03-05 2005-03-06 2006-03-06 2007-03-06 2008-03-05   \n",
       "\n",
       "        2009       2010       2011       2012       2013       2014  \\\n",
       "6 2009-02-18 2010-02-18 2011-02-18 2012-02-18 2013-02-18 2014-02-18   \n",
       "7 2009-02-26 2010-02-26 2011-02-26 2012-02-26 2013-02-26 2014-02-26   \n",
       "8 2009-03-06 2010-03-06 2011-03-06 2012-03-05 2013-03-06 2014-03-06   \n",
       "\n",
       "        2015       2016       2017       2018       2019       2020       2021  \n",
       "6 2015-02-18 2016-02-18 2017-02-18 2018-02-18 2019-02-18 2020-02-18 2021-02-18  \n",
       "7 2015-02-26 2016-02-26 2017-02-26 2018-02-26 2019-02-26 2020-02-26 2021-02-26  \n",
       "8 2015-03-06 2016-03-05 2017-03-06 2018-03-06 2019-03-06 2020-03-05 2021-03-06  "
      ]
     },
     "execution_count": 11,
     "metadata": {},
     "output_type": "execute_result"
    }
   ],
   "source": [
    "modis_dates = pd.read_csv(\"../data/MODIS_dates.csv\", sep=\";\")\n",
    "modis_dates = modis_dates.apply(lambda x: pd.to_datetime(x, format=\"%Y%m%d\"))\n",
    "\n",
    "modis_dates.iloc[6:9]"
   ]
  },
  {
   "cell_type": "markdown",
   "metadata": {},
   "source": [
    "#### 1.3 Read ECMWF seasonal forecasts"
   ]
  },
  {
   "cell_type": "code",
   "execution_count": 98,
   "metadata": {},
   "outputs": [
    {
     "name": "stdout",
     "output_type": "stream",
     "text": [
      "reading apr_2003_09\n",
      "ensembles mean\n",
      "to dataframe\n",
      "filter coordinates to continental US\n",
      "convert to datetime\n"
     ]
    }
   ],
   "source": [
    "filtered_coords = pd.read_csv(\"../data/filtered_coords_ecmwf.csv\")\n",
    "# read hindcasts\n",
    "list_hindcasts = []\n",
    "#for filename in [\"apr_2003_09\", \"apr_2010_16\", \"apr_2017_23\"]:\n",
    "for filename in [\"apr_2003_09\"]:\n",
    "    print(\"reading {}\".format(filename))\n",
    "    df = xr.open_dataset(\"../data/ecmwf_grib/\" + filename.lower() + \".grib\")\n",
    "    print(\"ensembles mean\") # Note: This is subject to change for probabilistic forecasting\n",
    "    df = df.mean(\"number\")\n",
    "    print(\"to dataframe\")\n",
    "    df = df.to_dataframe().dropna().reset_index()\n",
    "    print(\"filter coordinates to continental US\")\n",
    "    df = df.merge(filtered_coords[[\"latitude\", \"longitude\"]], on=[\"latitude\", \"longitude\"], how=\"right\")\n",
    "    print(\"convert to datetime\")\n",
    "    df[\"valid_time\"] = pd.to_datetime(df[\"valid_time\"])\n",
    "    df[\"time\"] = pd.to_datetime(df[\"time\"])\n",
    "    list_hindcasts.append(df)"
   ]
  },
  {
   "cell_type": "markdown",
   "metadata": {},
   "source": [
    "### 2. Preprocess"
   ]
  },
  {
   "cell_type": "markdown",
   "metadata": {},
   "source": [
    "#### 2.1 Align with date bins from MODIS"
   ]
  },
  {
   "cell_type": "code",
   "execution_count": 105,
   "metadata": {},
   "outputs": [],
   "source": [
    "li = []\n",
    "for year in df[\"time\"].dt.year.unique():\n",
    "    ecmwf_year = df[df[\"time\"].dt.year == year].reset_index(drop=True)\n",
    "    ecmwf_year[\"location\"] = ecmwf_year[\"latitude\"].astype(int).astype(str) + \", \" + ecmwf_year[\"longitude\"].astype(int).astype(str)\n",
    "\n",
    "    start_date = pd.to_datetime(np.intersect1d(modis_dates.stack().values, ecmwf_year[\"valid_time\"].drop_duplicates().sort_values()).min())\n",
    "    end_date = min(pd.to_datetime(datetime(year, 12, 31)), pd.to_datetime(np.intersect1d(modis_dates.stack().values, ecmwf_year[\"valid_time\"].drop_duplicates().sort_values()[:-7]).max()))\n",
    "    days_to_end_of_forecast = (end_date - start_date).days + 1\n",
    "    dates_to_end_of_forecast = pd.date_range(start_date, periods=days_to_end_of_forecast, freq='D')\n",
    "    \n",
    "    ecmwf_year_resampled = (\n",
    "                            pd.DataFrame(dates_to_end_of_forecast, index=range(days_to_end_of_forecast), columns=[\"start_date_bin\"])\n",
    "                                .merge(ecmwf_year, left_on=\"start_date_bin\", right_on=\"valid_time\", how=\"left\")\n",
    "                                .groupby([\"time\", \"location\"]).resample(\"8D\", on=\"start_date_bin\")[[\"t2m\", \"mx2t24\", \"mn2t24\", \"tp\"]].mean()\n",
    "                                .reset_index()\n",
    "                            )\n",
    "\n",
    "    li.append(ecmwf_year_resampled)\n",
    "\n",
    "ecmwf_resampled = pd.concat(li)"
   ]
  },
  {
   "cell_type": "markdown",
   "metadata": {},
   "source": [
    "#### 2.1 Assign counties to grid cells"
   ]
  },
  {
   "cell_type": "code",
   "execution_count": 129,
   "metadata": {},
   "outputs": [
    {
     "data": {
      "text/html": [
       "<div>\n",
       "<style scoped>\n",
       "    .dataframe tbody tr th:only-of-type {\n",
       "        vertical-align: middle;\n",
       "    }\n",
       "\n",
       "    .dataframe tbody tr th {\n",
       "        vertical-align: top;\n",
       "    }\n",
       "\n",
       "    .dataframe thead th {\n",
       "        text-align: right;\n",
       "    }\n",
       "</style>\n",
       "<table border=\"1\" class=\"dataframe\">\n",
       "  <thead>\n",
       "    <tr style=\"text-align: right;\">\n",
       "      <th></th>\n",
       "      <th>init_date</th>\n",
       "      <th>modis_bin</th>\n",
       "      <th>countyID</th>\n",
       "      <th>geometry</th>\n",
       "    </tr>\n",
       "  </thead>\n",
       "  <tbody>\n",
       "    <tr>\n",
       "      <th>0</th>\n",
       "      <td>2003-04-01</td>\n",
       "      <td>2003-04-07</td>\n",
       "      <td>00835841</td>\n",
       "      <td>POLYGON ((-97.01952 42.00410, -97.01952 42.004...</td>\n",
       "    </tr>\n",
       "    <tr>\n",
       "      <th>1</th>\n",
       "      <td>2003-04-01</td>\n",
       "      <td>2003-04-07</td>\n",
       "      <td>01513275</td>\n",
       "      <td>POLYGON ((-123.43640 46.23819, -123.44759 46.2...</td>\n",
       "    </tr>\n",
       "    <tr>\n",
       "      <th>2</th>\n",
       "      <td>2003-04-01</td>\n",
       "      <td>2003-04-07</td>\n",
       "      <td>00933054</td>\n",
       "      <td>POLYGON ((-104.56739 33.99756, -104.56772 33.9...</td>\n",
       "    </tr>\n",
       "    <tr>\n",
       "      <th>3</th>\n",
       "      <td>2003-04-01</td>\n",
       "      <td>2003-04-07</td>\n",
       "      <td>00835876</td>\n",
       "      <td>POLYGON ((-96.91075 40.78494, -96.91075 40.790...</td>\n",
       "    </tr>\n",
       "    <tr>\n",
       "      <th>4</th>\n",
       "      <td>2003-04-01</td>\n",
       "      <td>2003-04-07</td>\n",
       "      <td>00835886</td>\n",
       "      <td>POLYGON ((-98.27367 40.08940, -98.27367 40.089...</td>\n",
       "    </tr>\n",
       "  </tbody>\n",
       "</table>\n",
       "</div>"
      ],
      "text/plain": [
       "   init_date  modis_bin  countyID  \\\n",
       "0 2003-04-01 2003-04-07  00835841   \n",
       "1 2003-04-01 2003-04-07  01513275   \n",
       "2 2003-04-01 2003-04-07  00933054   \n",
       "3 2003-04-01 2003-04-07  00835876   \n",
       "4 2003-04-01 2003-04-07  00835886   \n",
       "\n",
       "                                            geometry  \n",
       "0  POLYGON ((-97.01952 42.00410, -97.01952 42.004...  \n",
       "1  POLYGON ((-123.43640 46.23819, -123.44759 46.2...  \n",
       "2  POLYGON ((-104.56739 33.99756, -104.56772 33.9...  \n",
       "3  POLYGON ((-96.91075 40.78494, -96.91075 40.790...  \n",
       "4  POLYGON ((-98.27367 40.08940, -98.27367 40.089...  "
      ]
     },
     "execution_count": 129,
     "metadata": {},
     "output_type": "execute_result"
    }
   ],
   "source": [
    "counties_with_ecmwf = pd.DataFrame(index=pd.MultiIndex.from_product([ecmwf_resampled[\"time\"].unique().tolist(), \n",
    "                                              ecmwf_resampled[\"start_date_bin\"].unique().tolist(),\n",
    "                                              us_continental_counties.COUNTYNS.unique()], names=[\"init_date\", \"modis_bin\", \"countyID\"])).reset_index()\n",
    "counties_with_ecmwf = counties_with_ecmwf.merge(us_continental_counties[[\"COUNTYNS\", \"geometry\"]], left_on=\"countyID\", right_on=\"COUNTYNS\", how=\"left\")\n",
    "\n",
    "counties_with_ecmwf = gpd.GeoDataFrame(counties_with_ecmwf[[\"init_date\", \"modis_bin\", \"countyID\", \"geometry\"]], geometry=\"geometry\")\n",
    "\n",
    "counties_with_ecmwf.head()"
   ]
  },
  {
   "cell_type": "code",
   "execution_count": 134,
   "metadata": {},
   "outputs": [
    {
     "data": {
      "text/html": [
       "<div>\n",
       "<style scoped>\n",
       "    .dataframe tbody tr th:only-of-type {\n",
       "        vertical-align: middle;\n",
       "    }\n",
       "\n",
       "    .dataframe tbody tr th {\n",
       "        vertical-align: top;\n",
       "    }\n",
       "\n",
       "    .dataframe thead th {\n",
       "        text-align: right;\n",
       "    }\n",
       "</style>\n",
       "<table border=\"1\" class=\"dataframe\">\n",
       "  <thead>\n",
       "    <tr style=\"text-align: right;\">\n",
       "      <th></th>\n",
       "      <th>time</th>\n",
       "      <th>location</th>\n",
       "      <th>start_date_bin</th>\n",
       "      <th>t2m</th>\n",
       "      <th>mx2t24</th>\n",
       "      <th>mn2t24</th>\n",
       "      <th>tp</th>\n",
       "      <th>latitude</th>\n",
       "      <th>longitude</th>\n",
       "      <th>geometry</th>\n",
       "    </tr>\n",
       "  </thead>\n",
       "  <tbody>\n",
       "    <tr>\n",
       "      <th>0</th>\n",
       "      <td>2003-04-01</td>\n",
       "      <td>25, -81</td>\n",
       "      <td>2003-04-07</td>\n",
       "      <td>297.449097</td>\n",
       "      <td>299.043701</td>\n",
       "      <td>295.882324</td>\n",
       "      <td>0.009665</td>\n",
       "      <td>25</td>\n",
       "      <td>-81</td>\n",
       "      <td>POINT (-81.00000 25.00000)</td>\n",
       "    </tr>\n",
       "    <tr>\n",
       "      <th>1</th>\n",
       "      <td>2003-04-01</td>\n",
       "      <td>25, -81</td>\n",
       "      <td>2003-04-15</td>\n",
       "      <td>297.778534</td>\n",
       "      <td>299.265259</td>\n",
       "      <td>295.830658</td>\n",
       "      <td>0.030414</td>\n",
       "      <td>25</td>\n",
       "      <td>-81</td>\n",
       "      <td>POINT (-81.00000 25.00000)</td>\n",
       "    </tr>\n",
       "    <tr>\n",
       "      <th>2</th>\n",
       "      <td>2003-04-01</td>\n",
       "      <td>25, -81</td>\n",
       "      <td>2003-04-23</td>\n",
       "      <td>298.457489</td>\n",
       "      <td>300.028992</td>\n",
       "      <td>296.462097</td>\n",
       "      <td>0.044013</td>\n",
       "      <td>25</td>\n",
       "      <td>-81</td>\n",
       "      <td>POINT (-81.00000 25.00000)</td>\n",
       "    </tr>\n",
       "    <tr>\n",
       "      <th>3</th>\n",
       "      <td>2003-04-01</td>\n",
       "      <td>25, -81</td>\n",
       "      <td>2003-05-01</td>\n",
       "      <td>298.850311</td>\n",
       "      <td>300.438263</td>\n",
       "      <td>296.809265</td>\n",
       "      <td>0.058636</td>\n",
       "      <td>25</td>\n",
       "      <td>-81</td>\n",
       "      <td>POINT (-81.00000 25.00000)</td>\n",
       "    </tr>\n",
       "    <tr>\n",
       "      <th>4</th>\n",
       "      <td>2003-04-01</td>\n",
       "      <td>25, -81</td>\n",
       "      <td>2003-05-09</td>\n",
       "      <td>299.288391</td>\n",
       "      <td>300.834320</td>\n",
       "      <td>297.300293</td>\n",
       "      <td>0.077952</td>\n",
       "      <td>25</td>\n",
       "      <td>-81</td>\n",
       "      <td>POINT (-81.00000 25.00000)</td>\n",
       "    </tr>\n",
       "  </tbody>\n",
       "</table>\n",
       "</div>"
      ],
      "text/plain": [
       "        time location start_date_bin         t2m      mx2t24      mn2t24  \\\n",
       "0 2003-04-01  25, -81     2003-04-07  297.449097  299.043701  295.882324   \n",
       "1 2003-04-01  25, -81     2003-04-15  297.778534  299.265259  295.830658   \n",
       "2 2003-04-01  25, -81     2003-04-23  298.457489  300.028992  296.462097   \n",
       "3 2003-04-01  25, -81     2003-05-01  298.850311  300.438263  296.809265   \n",
       "4 2003-04-01  25, -81     2003-05-09  299.288391  300.834320  297.300293   \n",
       "\n",
       "         tp latitude longitude                    geometry  \n",
       "0  0.009665       25       -81  POINT (-81.00000 25.00000)  \n",
       "1  0.030414       25       -81  POINT (-81.00000 25.00000)  \n",
       "2  0.044013       25       -81  POINT (-81.00000 25.00000)  \n",
       "3  0.058636       25       -81  POINT (-81.00000 25.00000)  \n",
       "4  0.077952       25       -81  POINT (-81.00000 25.00000)  "
      ]
     },
     "execution_count": 134,
     "metadata": {},
     "output_type": "execute_result"
    }
   ],
   "source": [
    "ecmwf_resampled[[\"latitude\", \"longitude\"]] = ecmwf_resampled[\"location\"].str.split(\", \", expand=True).rename(columns={0: \"latitude\", 1: \"longitude\"})\n",
    "ecmwf_geo = gpd.GeoDataFrame(ecmwf_resampled, geometry=gpd.points_from_xy(ecmwf_resampled[\"longitude\"], ecmwf_resampled[\"latitude\"]))\n",
    "ecmwf_geo.head()"
   ]
  }
 ],
 "metadata": {
  "kernelspec": {
   "display_name": "global-yield-forecast",
   "language": "python",
   "name": "python3"
  },
  "language_info": {
   "codemirror_mode": {
    "name": "ipython",
    "version": 3
   },
   "file_extension": ".py",
   "mimetype": "text/x-python",
   "name": "python",
   "nbconvert_exporter": "python",
   "pygments_lexer": "ipython3",
   "version": "3.12.0"
  }
 },
 "nbformat": 4,
 "nbformat_minor": 2
}
