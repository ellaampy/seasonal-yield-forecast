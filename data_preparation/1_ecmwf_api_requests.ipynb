{
 "cells": [
  {
   "cell_type": "code",
   "execution_count": 1,
   "metadata": {},
   "outputs": [],
   "source": [
    "import cdsapi"
   ]
  },
  {
   "cell_type": "code",
   "execution_count": 2,
   "metadata": {},
   "outputs": [],
   "source": [
    "n = list(range(1, 216))\n",
    "days = [str(24*c) for c in n]"
   ]
  },
  {
   "cell_type": "code",
   "execution_count": 7,
   "metadata": {},
   "outputs": [
    {
     "name": "stderr",
     "output_type": "stream",
     "text": [
      "2024-05-17 14:50:11,423 INFO Welcome to the CDS\n",
      "2024-05-17 14:50:11,423 INFO Sending request to https://cds.climate.copernicus.eu/api/v2/resources/seasonal-original-single-levels\n",
      "2024-05-17 14:50:11,588 INFO Request is queued\n"
     ]
    },
    {
     "name": "stderr",
     "output_type": "stream",
     "text": [
      "2024-05-17 14:50:24,964 INFO Request is running\n",
      "2024-05-17 15:04:33,234 INFO Request is completed\n",
      "2024-05-17 15:04:33,236 INFO Downloading https://download-0008-clone.copernicus-climate.eu/cache-compute-0008/cache/data3/adaptor.mars.external-1715950224.6376507-11008-16-f0008ae2-c643-4369-bd1e-f7d19df08e47.grib to dec_2003_09.grib (454.4M)\n",
      "2024-05-17 15:05:45,044 INFO Download rate 6.3M/s  \n"
     ]
    },
    {
     "data": {
      "text/plain": [
       "Result(content_length=476483000,content_type=application/x-grib,location=https://download-0008-clone.copernicus-climate.eu/cache-compute-0008/cache/data3/adaptor.mars.external-1715950224.6376507-11008-16-f0008ae2-c643-4369-bd1e-f7d19df08e47.grib)"
      ]
     },
     "execution_count": 7,
     "metadata": {},
     "output_type": "execute_result"
    }
   ],
   "source": [
    "import cdsapi\n",
    "\n",
    "c = cdsapi.Client()\n",
    "\n",
    "c.retrieve(\n",
    "    'seasonal-original-single-levels',\n",
    "    {\n",
    "        'format': 'grib',\n",
    "        'originating_centre': 'ecmwf',\n",
    "        'system': '51',\n",
    "        'variable': [\n",
    "            '2m_temperature', 'maximum_2m_temperature_in_the_last_24_hours', 'minimum_2m_temperature_in_the_last_24_hours',\n",
    "            'total_precipitation',\n",
    "        ],\n",
    "        'year': [\n",
    "           '2003', '2004', '2005', '2006', '2007', '2008', '2009' \n",
    "           #'2010', '2011', '2012', '2013', '2014', '2015', '2016'\n",
    "           #'2017', '2018', '2019', '2020', '2021', '2022', '2023'\n",
    "        ],\n",
    "        'month': '12',\n",
    "        'day': '01',\n",
    "        'leadtime_hour': days,\n",
    "        'area': [\n",
    "            49, -125, 25,\n",
    "            -65,\n",
    "        ],\n",
    "    },\n",
    "    'dec_2003_09.grib')"
   ]
  },
  {
   "cell_type": "code",
   "execution_count": null,
   "metadata": {},
   "outputs": [],
   "source": []
  }
 ],
 "metadata": {
  "kernelspec": {
   "display_name": "global-yield-forecast",
   "language": "python",
   "name": "python3"
  },
  "language_info": {
   "codemirror_mode": {
    "name": "ipython",
    "version": 3
   },
   "file_extension": ".py",
   "mimetype": "text/x-python",
   "name": "python",
   "nbconvert_exporter": "python",
   "pygments_lexer": "ipython3",
   "version": "3.11.4"
  }
 },
 "nbformat": 4,
 "nbformat_minor": 2
}
