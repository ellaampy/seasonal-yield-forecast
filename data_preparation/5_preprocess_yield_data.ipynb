{
 "cells": [
  {
   "cell_type": "code",
   "execution_count": 68,
   "metadata": {},
   "outputs": [],
   "source": [
    "import pandas as pd\n",
    "import numpy as np\n",
    "\n",
    "state_selector = ['08', '20', '31', '40', '46', '48'] "
   ]
  },
  {
   "cell_type": "markdown",
   "metadata": {},
   "source": [
    "Read yield data"
   ]
  },
  {
   "cell_type": "code",
   "execution_count": 63,
   "metadata": {},
   "outputs": [],
   "source": [
    "us_yield = pd.read_csv(\"../data/CY-Bench/US/wheat/yield_wheat_US.csv\")\n",
    "us_yield = us_yield.assign(state=us_yield[\"adm_id\"].apply(lambda x: x.split(\"-\")[1]))\n",
    "us_yield = us_yield.loc[(us_yield[\"state\"].isin(state_selector)) & (us_yield[\"harvest_year\"].between(2004, 2023))].reset_index(drop=True)"
   ]
  },
  {
   "cell_type": "code",
   "execution_count": 91,
   "metadata": {},
   "outputs": [],
   "source": [
    "predictors = pd.read_csv(\"../data/preprocessed/US/cy_bench_16daybins_wheat_US_v2.csv\")\n",
    "predictors = predictors.assign(state=predictors[\"adm_id\"].apply(lambda x: x.split(\"-\")[1]))"
   ]
  },
  {
   "cell_type": "code",
   "execution_count": 93,
   "metadata": {},
   "outputs": [
    {
     "data": {
      "text/plain": [
       "array(['01', '04', '05', '06', '08', '10', '12', '13', '16', '17', '18',\n",
       "       '19', '20', '21', '22', '24', '26', '27', '28', '29', '30', '31',\n",
       "       '32', '34', '35', '36', '37', '38', '39', '40', '41', '42', '45',\n",
       "       '46', '47', '48', '49', '51', '53', '54', '55', '56'], dtype=object)"
      ]
     },
     "execution_count": 93,
     "metadata": {},
     "output_type": "execute_result"
    }
   ],
   "source": [
    "predictors.state.unique()"
   ]
  },
  {
   "cell_type": "markdown",
   "metadata": {},
   "source": [
    "Trend is estimated using the training period.\n",
    "- at least 10 observations in 14 year training period from 2004-2017.\n",
    "\n",
    "\n",
    "All adm_ids that fullfil that criteria are used to filter the entire period 2004-2017."
   ]
  },
  {
   "cell_type": "code",
   "execution_count": 64,
   "metadata": {},
   "outputs": [
    {
     "name": "stdout",
     "output_type": "stream",
     "text": [
      "previous shape:  (1317, 8) (224, 8) (244, 8)\n",
      "new shape:  (1300, 8) (222, 8) (238, 8)\n"
     ]
    }
   ],
   "source": [
    "print(\"previous shape: \", us_yield.loc[us_yield[\"harvest_year\"].between(2004, 2017)].shape, \n",
    "      us_yield.loc[us_yield[\"harvest_year\"].between(2018, 2020)].shape,\n",
    "      us_yield.loc[us_yield[\"harvest_year\"].between(2021, 2023)].shape)\n",
    "\n",
    "relevant_ids = us_yield.loc[us_yield[\"harvest_year\"].between(2004, 2017)].groupby(\"adm_id\").size().loc[lambda x: x >= 10].index\n",
    "us_yield_filtered = us_yield.loc[us_yield[\"adm_id\"].isin(relevant_ids)].reset_index(drop=True)\n",
    "\n",
    "print(\"new shape: \", us_yield_filtered.loc[us_yield_filtered[\"harvest_year\"].between(2004, 2017)].shape, \n",
    "      us_yield_filtered.loc[us_yield_filtered[\"harvest_year\"].between(2018, 2020)].shape,\n",
    "      us_yield_filtered.loc[us_yield_filtered[\"harvest_year\"].between(2021, 2023)].shape)"
   ]
  },
  {
   "cell_type": "code",
   "execution_count": 67,
   "metadata": {},
   "outputs": [],
   "source": [
    "adm_id_to_polyfit = dict.fromkeys(relevant_ids)\n",
    "intercepts = []\n",
    "slopes = []\n",
    "for id in relevant_ids:\n",
    "    y = us_yield_filtered.loc[(us_yield_filtered[\"adm_id\"] == id) & (us_yield_filtered[\"harvest_year\"].between(2004, 2017)), \"yield\"] \n",
    "    x = us_yield_filtered.loc[(us_yield_filtered[\"adm_id\"] == id) & (us_yield_filtered[\"harvest_year\"].between(2004, 2017)), \"harvest_year\"]\n",
    "    slope, bias = np.polyfit(x, y, 1)\n",
    "    slopes.append(slope)\n",
    "    intercepts.append(bias)\n",
    "    adm_id_to_polyfit[id] = (slope, bias)\n",
    "    \n",
    "us_yield_filtered[\"yield_trend\"] = us_yield_filtered[[\"adm_id\", \"harvest_year\"]].apply(lambda x: adm_id_to_polyfit[x[0]][0] * x[1] + adm_id_to_polyfit[x[0]][1], axis=1)\n",
    "us_yield_filtered[\"yield_anomaly\"] = (us_yield_filtered[\"yield\"] - us_yield_filtered[\"yield_trend\"]) / us_yield_filtered[\"yield_trend\"]"
   ]
  },
  {
   "cell_type": "code",
   "execution_count": 78,
   "metadata": {},
   "outputs": [],
   "source": [
    "# Calculate state yield as weighted average from counties\n",
    "us_yield_filtered[\"weighted_yield\"] = us_yield_filtered.apply(lambda x: x[\"yield\"] * x[\"harvest_area\"], axis=1)\n",
    "yield_by_state = us_yield_filtered.groupby([\"state\", \"harvest_year\"]).apply(lambda x: x[\"weighted_yield\"].sum() / x[\"harvest_area\"].sum()).reset_index(name=\"yield\")\n",
    "us_yield_filtered = us_yield_filtered.drop(columns=[\"weighted_yield\"])"
   ]
  },
  {
   "cell_type": "code",
   "execution_count": 81,
   "metadata": {},
   "outputs": [],
   "source": []
  },
  {
   "cell_type": "code",
   "execution_count": 87,
   "metadata": {},
   "outputs": [
    {
     "name": "stdout",
     "output_type": "stream",
     "text": [
      "Kansas state intercept:  -50.53 Kansas state slope:  0.03\n"
     ]
    },
    {
     "data": {
      "image/png": "[encoded data removed]",
      "text/plain": [
       "<Figure size 1000x400 with 2 Axes>"
      ]
     },
     "metadata": {},
     "output_type": "display_data"
    }
   ],
   "source": [
    "fig, axs = plt.subplots(1, 2, figsize=(10, 4))\n",
    "axs = axs.ravel()\n",
    "\n",
    "axs[0].hist(intercepts, bins=10);\n",
    "axs[0].set_title(\"Kansas counties intercepts distribution\")\n",
    "axs[1].hist(slopes, bins=10);\n",
    "axs[1].set_title(\"Kansas counties slopes distribution\")\n",
    "\n",
    "state_slope, state_bias = np.polyfit(yield_by_state[\"harvest_year\"], yield_by_state[\"yield\"], 1)\n",
    "print(\"Kansas state intercept: \", np.round(state_bias, 2), \"Kansas state slope: \", np.round(state_slope, 2))"
   ]
  },
  {
   "cell_type": "code",
   "execution_count": 59,
   "metadata": {},
   "outputs": [
    {
     "data": {
      "text/html": [
       "<div>\n",
       "<style scoped>\n",
       "    .dataframe tbody tr th:only-of-type {\n",
       "        vertical-align: middle;\n",
       "    }\n",
       "\n",
       "    .dataframe tbody tr th {\n",
       "        vertical-align: top;\n",
       "    }\n",
       "\n",
       "    .dataframe thead th {\n",
       "        text-align: right;\n",
       "    }\n",
       "</style>\n",
       "<table border=\"1\" class=\"dataframe\">\n",
       "  <thead>\n",
       "    <tr style=\"text-align: right;\">\n",
       "      <th></th>\n",
       "      <th>crop_name</th>\n",
       "      <th>country_code</th>\n",
       "      <th>adm_id</th>\n",
       "      <th>harvest_year</th>\n",
       "      <th>yield</th>\n",
       "      <th>harvest_area</th>\n",
       "      <th>production</th>\n",
       "      <th>state</th>\n",
       "      <th>yield_trend</th>\n",
       "      <th>yield_anomaly</th>\n",
       "    </tr>\n",
       "  </thead>\n",
       "  <tbody>\n",
       "    <tr>\n",
       "      <th>4130</th>\n",
       "      <td>winter_wheat</td>\n",
       "      <td>US</td>\n",
       "      <td>US-40-047</td>\n",
       "      <td>2016</td>\n",
       "      <td>2.63143</td>\n",
       "      <td>97937.40</td>\n",
       "      <td>257176.00</td>\n",
       "      <td>40</td>\n",
       "      <td>2.299240</td>\n",
       "      <td>0.144478</td>\n",
       "    </tr>\n",
       "    <tr>\n",
       "      <th>1302</th>\n",
       "      <td>winter_wheat</td>\n",
       "      <td>US</td>\n",
       "      <td>US-40-081</td>\n",
       "      <td>2007</td>\n",
       "      <td>1.00950</td>\n",
       "      <td>404.70</td>\n",
       "      <td>408.00</td>\n",
       "      <td>40</td>\n",
       "      <td>1.975846</td>\n",
       "      <td>-0.489080</td>\n",
       "    </tr>\n",
       "    <tr>\n",
       "      <th>2727</th>\n",
       "      <td>winter_wheat</td>\n",
       "      <td>US</td>\n",
       "      <td>US-20-201</td>\n",
       "      <td>2023</td>\n",
       "      <td>2.64489</td>\n",
       "      <td>10077.03</td>\n",
       "      <td>26628.80</td>\n",
       "      <td>20</td>\n",
       "      <td>2.133096</td>\n",
       "      <td>0.239930</td>\n",
       "    </tr>\n",
       "    <tr>\n",
       "      <th>5033</th>\n",
       "      <td>winter_wheat</td>\n",
       "      <td>US</td>\n",
       "      <td>US-48-483</td>\n",
       "      <td>2015</td>\n",
       "      <td>1.58828</td>\n",
       "      <td>3156.66</td>\n",
       "      <td>5010.24</td>\n",
       "      <td>48</td>\n",
       "      <td>1.372698</td>\n",
       "      <td>0.157050</td>\n",
       "    </tr>\n",
       "    <tr>\n",
       "      <th>836</th>\n",
       "      <td>winter_wheat</td>\n",
       "      <td>US</td>\n",
       "      <td>US-31-019</td>\n",
       "      <td>2005</td>\n",
       "      <td>2.76603</td>\n",
       "      <td>3399.48</td>\n",
       "      <td>9389.44</td>\n",
       "      <td>31</td>\n",
       "      <td>2.850525</td>\n",
       "      <td>-0.029642</td>\n",
       "    </tr>\n",
       "  </tbody>\n",
       "</table>\n",
       "</div>"
      ],
      "text/plain": [
       "         crop_name country_code     adm_id  harvest_year    yield  \\\n",
       "4130  winter_wheat           US  US-40-047          2016  2.63143   \n",
       "1302  winter_wheat           US  US-40-081          2007  1.00950   \n",
       "2727  winter_wheat           US  US-20-201          2023  2.64489   \n",
       "5033  winter_wheat           US  US-48-483          2015  1.58828   \n",
       "836   winter_wheat           US  US-31-019          2005  2.76603   \n",
       "\n",
       "      harvest_area  production state  yield_trend  yield_anomaly  \n",
       "4130      97937.40   257176.00    40     2.299240       0.144478  \n",
       "1302        404.70      408.00    40     1.975846      -0.489080  \n",
       "2727      10077.03    26628.80    20     2.133096       0.239930  \n",
       "5033       3156.66     5010.24    48     1.372698       0.157050  \n",
       "836        3399.48     9389.44    31     2.850525      -0.029642  "
      ]
     },
     "execution_count": 59,
     "metadata": {},
     "output_type": "execute_result"
    }
   ],
   "source": [
    "us_yield_filtered.sample(5)"
   ]
  },
  {
   "cell_type": "code",
   "execution_count": 61,
   "metadata": {},
   "outputs": [],
   "source": [
    "us_yield_filtered.to_csv(\"../data/preprocessed/US/yield_wheat_US_filtered.csv\", index=False)"
   ]
  },
  {
   "cell_type": "code",
   "execution_count": 60,
   "metadata": {},
   "outputs": [
    {
     "data": {
      "text/plain": [
       "<Axes: ylabel='Frequency'>"
      ]
     },
     "execution_count": 60,
     "metadata": {},
     "output_type": "execute_result"
    },
    {
     "data": {
      "image/png": "[encoded data removed]",
      "text/plain": [
       "<Figure size 640x480 with 1 Axes>"
      ]
     },
     "metadata": {},
     "output_type": "display_data"
    }
   ],
   "source": [
    "us_yield_filtered[\"yield_anomaly\"].plot(kind=\"hist\", bins=50)"
   ]
  }
 ],
 "metadata": {
  "kernelspec": {
   "display_name": "global-yield-forecast",
   "language": "python",
   "name": "python3"
  },
  "language_info": {
   "codemirror_mode": {
    "name": "ipython",
    "version": 3
   },
   "file_extension": ".py",
   "mimetype": "text/x-python",
   "name": "python",
   "nbconvert_exporter": "python",
   "pygments_lexer": "ipython3",
   "version": "3.11.4"
  }
 },
 "nbformat": 4,
 "nbformat_minor": 2
}
