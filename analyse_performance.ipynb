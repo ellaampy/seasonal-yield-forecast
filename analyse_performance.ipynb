{
 "cells": [
  {
   "cell_type": "code",
   "execution_count": 34,
   "metadata": {},
   "outputs": [],
   "source": [
    "import pandas as pd\n",
    "import seaborn as sns\n",
    "import matplotlib.pyplot as plt \n",
    "import numpy as np\n",
    "from sklearn.metrics import r2_score, root_mean_squared_error"
   ]
  },
  {
   "cell_type": "code",
   "execution_count": 24,
   "metadata": {},
   "outputs": [
    {
     "name": "stdout",
     "output_type": "stream",
     "text": [
      "Mean yield in great plains from 2018-2020 is: 2.77 t/ha\n",
      "R2 score for validation years 2018-2020 is: 0.54\n",
      "This R2 score is calculated using mean yield from great plains only\n"
     ]
    }
   ],
   "source": [
    "import pickle\n",
    "\n",
    "# Read y_pred_test_data.pkl\n",
    "with open('data/results/y_pred_test_data.pkl', 'rb') as file:\n",
    "    y_pred_test_data = pickle.load(file)\n",
    "\n",
    "# Read y_true_test_data.pkl\n",
    "with open('data/results/y_true_test_data.pkl', 'rb') as file:\n",
    "    y_true_test_data = pickle.load(file)\n",
    "    \n",
    "pred_true = pd.DataFrame([y_pred_test_data, y_true_test_data], index=['y_pred', 'y_true']).T\n",
    "\n",
    "print(\"Mean yield in great plains from 2018-2020 is:\", np.round(pred_true[\"y_true\"].mean(), 2), \"t/ha\")\n",
    "print(\"R2 score for validation years 2018-2020 is:\", np.round(r2_score(y_true_test_data, y_pred_test_data), 2))\n",
    "print(\"This R2 score is calculated using mean yield from great plains only\")"
   ]
  },
  {
   "cell_type": "code",
   "execution_count": 26,
   "metadata": {},
   "outputs": [
    {
     "name": "stdout",
     "output_type": "stream",
     "text": [
      "Mean yield across whole US from 2018-2020 is: 3.85 t/ha\n"
     ]
    }
   ],
   "source": [
    "yield_df = pd.read_csv('data/CY-Bench/US/wheat/yield_wheat_US.csv')\n",
    "us_wheat_mean = yield_df.loc[yield_df['harvest_year'].isin([2018, 2019, 2020]), \"yield\"].mean()\n",
    "\n",
    "print(\"Mean yield across whole US from 2018-2020 is:\", np.round(us_wheat_mean, 2), \"t/ha\")"
   ]
  },
  {
   "cell_type": "code",
   "execution_count": 33,
   "metadata": {
    "vscode": {
     "languageId": "ruby"
    }
   },
   "outputs": [
    {
     "name": "stdout",
     "output_type": "stream",
     "text": [
      "R2 score with national mean yield: 0.81\n"
     ]
    }
   ],
   "source": [
    "numerator = sum((pred_true[\"y_true\"] - pred_true[\"y_pred\"])**2)\n",
    "denominator = sum((y_true_test_data - us_wheat_mean)**2)\n",
    "r2_score_scratch = 1 - (numerator / denominator)\n",
    "\n",
    "print(\"R2 score with national mean yield:\", np.round(r2_score_scratch, 2))"
   ]
  },
  {
   "cell_type": "markdown",
   "metadata": {},
   "source": [
    "#### The same applies for NRMSE"
   ]
  },
  {
   "cell_type": "code",
   "execution_count": 43,
   "metadata": {
    "vscode": {
     "languageId": "ruby"
    }
   },
   "outputs": [
    {
     "data": {
      "text/plain": [
       "0.6125816057545874"
      ]
     },
     "execution_count": 43,
     "metadata": {},
     "output_type": "execute_result"
    }
   ],
   "source": [
    "root_mean_squared_error(y_true_test_data, y_pred_test_data)"
   ]
  },
  {
   "cell_type": "code",
   "execution_count": 41,
   "metadata": {
    "vscode": {
     "languageId": "ruby"
    }
   },
   "outputs": [
    {
     "name": "stdout",
     "output_type": "stream",
     "text": [
      "0.22\n",
      "0.16\n"
     ]
    }
   ],
   "source": [
    "print(np.round(root_mean_squared_error(y_true_test_data, y_pred_test_data) / np.mean(y_true_test_data),2))\n",
    "print(np.round(root_mean_squared_error(y_true_test_data, y_pred_test_data) / us_wheat_mean, 2))"
   ]
  },
  {
   "cell_type": "markdown",
   "metadata": {},
   "source": [
    "Check wheat yield in great plaisn"
   ]
  },
  {
   "cell_type": "code",
   "execution_count": 42,
   "metadata": {},
   "outputs": [
    {
     "data": {
      "text/plain": [
       "<Axes: ylabel='Count'>"
      ]
     },
     "execution_count": 42,
     "metadata": {},
     "output_type": "execute_result"
    },
    {
     "data": {
      "image/png": "[encoded data removed]",
      "text/plain": [
       "<Figure size 640x480 with 1 Axes>"
      ]
     },
     "metadata": {},
     "output_type": "display_data"
    }
   ],
   "source": [
    "sns.histplot(y_true_test_data)"
   ]
  }
 ],
 "metadata": {
  "kernelspec": {
   "display_name": "global-yield-forecast",
   "language": "python",
   "name": "python3"
  },
  "language_info": {
   "codemirror_mode": {
    "name": "ipython",
    "version": 3
   },
   "file_extension": ".py",
   "mimetype": "text/x-python",
   "name": "python",
   "nbconvert_exporter": "python",
   "pygments_lexer": "ipython3",
   "version": "3.11.4"
  }
 },
 "nbformat": 4,
 "nbformat_minor": 2
}
